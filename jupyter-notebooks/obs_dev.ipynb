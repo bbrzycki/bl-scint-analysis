{
 "cells": [
  {
   "cell_type": "code",
   "execution_count": 2,
   "metadata": {},
   "outputs": [
    {
     "name": "stdout",
     "output_type": "stream",
     "text": [
      "The autoreload extension is already loaded. To reload it, use:\n",
      "  %reload_ext autoreload\n"
     ]
    }
   ],
   "source": [
    "%load_ext autoreload\n",
    "%autoreload 2\n",
    "\n",
    "%matplotlib inline\n",
    "import matplotlib.pyplot as plt\n",
    "\n",
    "import numpy as np\n",
    "\n",
    "import sys\n",
    "sys.path.insert(0, '/home/bryanb/setigen')\n",
    "import setigen as stg\n",
    "\n",
    "sys.path.insert(0, '/home/bryanb/bl-scint-analysis')\n",
    "import blscint\n",
    "# from blscint import *\n",
    "\n",
    "import numpy as np"
   ]
  },
  {
   "cell_type": "code",
   "execution_count": 3,
   "metadata": {},
   "outputs": [],
   "source": [
    "from astropy import units as u\n",
    "from astropy.coordinates import SkyCoord"
   ]
  },
  {
   "cell_type": "code",
   "execution_count": 4,
   "metadata": {},
   "outputs": [
    {
     "data": {
      "text/plain": [
       "(0.6667458317635659, -0.036227770843024316)"
      ]
     },
     "execution_count": 4,
     "metadata": {},
     "output_type": "execute_result"
    }
   ],
   "source": [
    "blscint.to_galactic('17:47:20.4   -28:23:07')"
   ]
  },
  {
   "cell_type": "code",
   "execution_count": 15,
   "metadata": {},
   "outputs": [
    {
     "name": "stdout",
     "output_type": "stream",
     "text": [
      "/home/bryanb/bl-scint-analysis/blscint/NE2001/bin.NE2001/run_NE2001.pl\n",
      "SCINTIME = 0.6450E-03 (s)         ScintTime @1GHz @100 km/s\n",
      "\n"
     ]
    },
    {
     "data": {
      "text/plain": [
       "0.000645"
      ]
     },
     "execution_count": 15,
     "metadata": {},
     "output_type": "execute_result"
    }
   ],
   "source": [
    "blscint.get_tscint(0, 0, 10)"
   ]
  },
  {
   "cell_type": "code",
   "execution_count": 16,
   "metadata": {},
   "outputs": [
    {
     "name": "stdout",
     "output_type": "stream",
     "text": [
      "/home/bryanb/bl-scint-analysis/blscint/NE2001/bin.NE2001/run_NE2001.pl\n",
      "SCINTIME = 0.1340E+01 (s)         ScintTime @1GHz @100 km/s\n",
      "\n"
     ]
    },
    {
     "data": {
      "text/plain": [
       "1.34"
      ]
     },
     "execution_count": 16,
     "metadata": {},
     "output_type": "execute_result"
    }
   ],
   "source": [
    "# SGR B2 expected scintillation time\n",
    "l, b = blscint.to_galactic('17:47:20.4   -28:23:07')\n",
    "t_d = blscint.get_tscint(l, b, 8.34)\n",
    "t_d"
   ]
  },
  {
   "cell_type": "code",
   "execution_count": 17,
   "metadata": {},
   "outputs": [
    {
     "data": {
      "text/plain": [
       "130.5868685664986"
      ]
     },
     "execution_count": 17,
     "metadata": {},
     "output_type": "execute_result"
    }
   ],
   "source": [
    "# Strong scintillation scaling with freq and velocity\n",
    "maser_f = 6.668 # GHz\n",
    "seti_v = 10 # km/s\n",
    "t_d * (maser_f / 1)**1.2 * (100 / seti_v)"
   ]
  },
  {
   "cell_type": "code",
   "execution_count": 21,
   "metadata": {},
   "outputs": [
    {
     "data": {
      "text/plain": [
       "26.117373713299717"
      ]
     },
     "execution_count": 21,
     "metadata": {},
     "output_type": "execute_result"
    }
   ],
   "source": [
    "other_v = 50\n",
    "t_d * (maser_f / 1)**1.2 * (100 / other_v)"
   ]
  },
  {
   "cell_type": "code",
   "execution_count": null,
   "metadata": {},
   "outputs": [],
   "source": []
  }
 ],
 "metadata": {
  "kernelspec": {
   "display_name": "Python (bl_tf)",
   "language": "python",
   "name": "ml"
  },
  "language_info": {
   "codemirror_mode": {
    "name": "ipython",
    "version": 3
   },
   "file_extension": ".py",
   "mimetype": "text/x-python",
   "name": "python",
   "nbconvert_exporter": "python",
   "pygments_lexer": "ipython3",
   "version": "3.8.3"
  }
 },
 "nbformat": 4,
 "nbformat_minor": 4
}
